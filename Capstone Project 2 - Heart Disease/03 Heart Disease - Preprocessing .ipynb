{
 "cells": [
  {
   "cell_type": "markdown",
   "metadata": {},
   "source": [
    "# Capstone 2: Heart Disease - Preprocessing, Training Data, and Modeling"
   ]
  },
  {
   "cell_type": "markdown",
   "metadata": {},
   "source": [
    "# Imports "
   ]
  },
  {
   "cell_type": "code",
   "execution_count": 1,
   "metadata": {},
   "outputs": [],
   "source": [
    "import numpy as np\n",
    "import matplotlib.pyplot as plt\n",
    "import pandas as pd\n",
    "import sklearn.model_selection\n",
    "from sklearn.model_selection import train_test_split\n",
    "from sklearn.linear_model import LogisticRegression\n",
    "from sklearn.metrics import accuracy_score\n",
    "from sklearn.model_selection import GridSearchCV\n",
    "from sklearn import tree, metrics\n",
    "from sklearn import preprocessing\n",
    "from sklearn.ensemble import GradientBoostingClassifier, RandomForestClassifier\n",
    "from sklearn.metrics import roc_auc_score"
   ]
  },
  {
   "cell_type": "markdown",
   "metadata": {},
   "source": [
    "# Load Data"
   ]
  },
  {
   "cell_type": "code",
   "execution_count": 2,
   "metadata": {},
   "outputs": [
    {
     "data": {
      "text/html": [
       "<div>\n",
       "<style scoped>\n",
       "    .dataframe tbody tr th:only-of-type {\n",
       "        vertical-align: middle;\n",
       "    }\n",
       "\n",
       "    .dataframe tbody tr th {\n",
       "        vertical-align: top;\n",
       "    }\n",
       "\n",
       "    .dataframe thead th {\n",
       "        text-align: right;\n",
       "    }\n",
       "</style>\n",
       "<table border=\"1\" class=\"dataframe\">\n",
       "  <thead>\n",
       "    <tr style=\"text-align: right;\">\n",
       "      <th></th>\n",
       "      <th>age</th>\n",
       "      <th>sex</th>\n",
       "      <th>cp</th>\n",
       "      <th>trestbps</th>\n",
       "      <th>chol</th>\n",
       "      <th>fbs</th>\n",
       "      <th>restecg</th>\n",
       "      <th>thalach</th>\n",
       "      <th>exang</th>\n",
       "      <th>oldpeak</th>\n",
       "      <th>slope</th>\n",
       "      <th>ca</th>\n",
       "      <th>thal</th>\n",
       "      <th>target</th>\n",
       "    </tr>\n",
       "  </thead>\n",
       "  <tbody>\n",
       "    <tr>\n",
       "      <th>0</th>\n",
       "      <td>63</td>\n",
       "      <td>1</td>\n",
       "      <td>3</td>\n",
       "      <td>145</td>\n",
       "      <td>233</td>\n",
       "      <td>1</td>\n",
       "      <td>0</td>\n",
       "      <td>150</td>\n",
       "      <td>0</td>\n",
       "      <td>2.3</td>\n",
       "      <td>0</td>\n",
       "      <td>0</td>\n",
       "      <td>1</td>\n",
       "      <td>1</td>\n",
       "    </tr>\n",
       "    <tr>\n",
       "      <th>1</th>\n",
       "      <td>37</td>\n",
       "      <td>1</td>\n",
       "      <td>2</td>\n",
       "      <td>130</td>\n",
       "      <td>250</td>\n",
       "      <td>0</td>\n",
       "      <td>1</td>\n",
       "      <td>187</td>\n",
       "      <td>0</td>\n",
       "      <td>3.5</td>\n",
       "      <td>0</td>\n",
       "      <td>0</td>\n",
       "      <td>2</td>\n",
       "      <td>1</td>\n",
       "    </tr>\n",
       "    <tr>\n",
       "      <th>2</th>\n",
       "      <td>41</td>\n",
       "      <td>0</td>\n",
       "      <td>1</td>\n",
       "      <td>130</td>\n",
       "      <td>204</td>\n",
       "      <td>0</td>\n",
       "      <td>0</td>\n",
       "      <td>172</td>\n",
       "      <td>0</td>\n",
       "      <td>1.4</td>\n",
       "      <td>2</td>\n",
       "      <td>0</td>\n",
       "      <td>2</td>\n",
       "      <td>1</td>\n",
       "    </tr>\n",
       "    <tr>\n",
       "      <th>3</th>\n",
       "      <td>56</td>\n",
       "      <td>1</td>\n",
       "      <td>1</td>\n",
       "      <td>120</td>\n",
       "      <td>236</td>\n",
       "      <td>0</td>\n",
       "      <td>1</td>\n",
       "      <td>178</td>\n",
       "      <td>0</td>\n",
       "      <td>0.8</td>\n",
       "      <td>2</td>\n",
       "      <td>0</td>\n",
       "      <td>2</td>\n",
       "      <td>1</td>\n",
       "    </tr>\n",
       "    <tr>\n",
       "      <th>4</th>\n",
       "      <td>57</td>\n",
       "      <td>0</td>\n",
       "      <td>0</td>\n",
       "      <td>120</td>\n",
       "      <td>354</td>\n",
       "      <td>0</td>\n",
       "      <td>1</td>\n",
       "      <td>163</td>\n",
       "      <td>1</td>\n",
       "      <td>0.6</td>\n",
       "      <td>2</td>\n",
       "      <td>0</td>\n",
       "      <td>2</td>\n",
       "      <td>1</td>\n",
       "    </tr>\n",
       "  </tbody>\n",
       "</table>\n",
       "</div>"
      ],
      "text/plain": [
       "   age  sex  cp  trestbps  chol  fbs  restecg  thalach  exang  oldpeak  slope  \\\n",
       "0   63    1   3       145   233    1        0      150      0      2.3      0   \n",
       "1   37    1   2       130   250    0        1      187      0      3.5      0   \n",
       "2   41    0   1       130   204    0        0      172      0      1.4      2   \n",
       "3   56    1   1       120   236    0        1      178      0      0.8      2   \n",
       "4   57    0   0       120   354    0        1      163      1      0.6      2   \n",
       "\n",
       "   ca  thal  target  \n",
       "0   0     1       1  \n",
       "1   0     2       1  \n",
       "2   0     2       1  \n",
       "3   0     2       1  \n",
       "4   0     2       1  "
      ]
     },
     "execution_count": 2,
     "metadata": {},
     "output_type": "execute_result"
    }
   ],
   "source": [
    "heart = pd.read_csv('./Data/Heart.csv')\n",
    "heart.head()"
   ]
  },
  {
   "cell_type": "markdown",
   "metadata": {},
   "source": [
    "# Split Training Data "
   ]
  },
  {
   "cell_type": "code",
   "execution_count": 3,
   "metadata": {},
   "outputs": [
    {
     "data": {
      "text/plain": [
       "array([1, 0])"
      ]
     },
     "execution_count": 3,
     "metadata": {},
     "output_type": "execute_result"
    }
   ],
   "source": [
    "pd.unique(heart.target)"
   ]
  },
  {
   "cell_type": "code",
   "execution_count": 4,
   "metadata": {},
   "outputs": [],
   "source": [
    "# Splitted data into a training and test set\n",
    "\n",
    "Xlr, Xtestlr, ylr, ytestlr = train_test_split(heart[['age','chol']].values, \n",
    "                                              (heart.target).values,random_state=5)"
   ]
  },
  {
   "cell_type": "markdown",
   "metadata": {},
   "source": [
    "## Penalty L1"
   ]
  },
  {
   "cell_type": "code",
   "execution_count": 5,
   "metadata": {},
   "outputs": [
    {
     "name": "stdout",
     "output_type": "stream",
     "text": [
      "{'C': 10}\n",
      "0.6185076923076923\n",
      "\n",
      "0.7008310249307479\n"
     ]
    },
    {
     "name": "stderr",
     "output_type": "stream",
     "text": [
      "/Users/aakash/opt/anaconda3/lib/python3.7/site-packages/sklearn/model_selection/_search.py:921: UserWarning: One or more of the test scores are non-finite: [       nan 0.43605385 0.48369231 0.54578462 0.60924615 0.61849231\n",
      " 0.61850769]\n",
      "  category=UserWarning\n"
     ]
    }
   ],
   "source": [
    "Cs = [0,0.01,0.1,0.5,1,5,10]\n",
    "param_grid = {'C': Cs}\n",
    "clf = LogisticRegression(penalty = 'l1',solver = 'liblinear')\n",
    "\n",
    "\n",
    "clf_cv = GridSearchCV(estimator= clf, param_grid=param_grid, scoring='roc_auc', cv=5, n_jobs=-1)\n",
    "\n",
    "clf_cv.fit(Xlr, ylr)\n",
    "\n",
    "print(clf_cv.best_params_)\n",
    "print(clf_cv.best_score_)\n",
    "print()\n",
    "\n",
    "print(roc_auc_score(ytestlr, clf_cv.predict_proba(Xtestlr)[:, 1]))"
   ]
  },
  {
   "cell_type": "markdown",
   "metadata": {},
   "source": [
    "## Penatly L2"
   ]
  },
  {
   "cell_type": "code",
   "execution_count": 6,
   "metadata": {},
   "outputs": [
    {
     "name": "stdout",
     "output_type": "stream",
     "text": [
      "{'C': 0.1}\n",
      "0.6193076923076923\n",
      "\n",
      "0.7008310249307479\n"
     ]
    },
    {
     "name": "stderr",
     "output_type": "stream",
     "text": [
      "/Users/aakash/opt/anaconda3/lib/python3.7/site-packages/sklearn/model_selection/_search.py:921: UserWarning: One or more of the test scores are non-finite: [       nan 0.61810769 0.61930769 0.61930769 0.61930769 0.61930769\n",
      " 0.61930769]\n",
      "  category=UserWarning\n"
     ]
    }
   ],
   "source": [
    "Cs = [0,0.01,0.1,0.5,1,5,10]\n",
    "param_grid = {'C': Cs}\n",
    "clf = LogisticRegression(penalty = 'l2')\n",
    "\n",
    "\n",
    "clf_cv = GridSearchCV(estimator= clf, param_grid=param_grid, scoring='roc_auc', cv=5, n_jobs=-1)\n",
    "\n",
    "clf_cv.fit(Xlr, ylr)\n",
    "\n",
    "print(clf_cv.best_params_)\n",
    "print(clf_cv.best_score_)\n",
    "print()\n",
    "\n",
    "print(roc_auc_score(ytestlr, clf_cv.predict_proba(Xtestlr)[:, 1]))\n"
   ]
  },
  {
   "cell_type": "markdown",
   "metadata": {},
   "source": [
    "# Decision Tree "
   ]
  },
  {
   "cell_type": "code",
   "execution_count": 7,
   "metadata": {},
   "outputs": [
    {
     "name": "stdout",
     "output_type": "stream",
     "text": [
      "{'max_depth': 2, 'min_samples_split': 2}\n",
      "0.5812461538461537\n",
      "\n",
      "0.5799861495844876\n"
     ]
    }
   ],
   "source": [
    "#max_depth=None, min_samples_split=2\n",
    "\n",
    "max_depth = [None,2,4,8]\n",
    "min_samples_split = [2,4,6,8]\n",
    "\n",
    "param_grid = {'max_depth': max_depth, 'min_samples_split': min_samples_split}\n",
    "clf = tree.DecisionTreeClassifier()\n",
    "\n",
    "\n",
    "clf_cv = GridSearchCV(estimator= clf, param_grid=param_grid, scoring='roc_auc', cv=5, n_jobs=-1)\n",
    "\n",
    "clf_cv.fit(Xlr, ylr)\n",
    "\n",
    "print(clf_cv.best_params_)\n",
    "print(clf_cv.best_score_)\n",
    "print()\n",
    "\n",
    "print(roc_auc_score(ytestlr, clf_cv.predict_proba(Xtestlr)[:, 1]))"
   ]
  },
  {
   "cell_type": "markdown",
   "metadata": {},
   "source": [
    "# Gradient Boosting"
   ]
  },
  {
   "cell_type": "code",
   "execution_count": 8,
   "metadata": {},
   "outputs": [
    {
     "name": "stdout",
     "output_type": "stream",
     "text": [
      "{'max_depth': 2, 'min_samples_split': 2, 'n_estimators': 10}\n",
      "0.5964153846153846\n",
      "\n",
      "0.6755540166204986\n"
     ]
    }
   ],
   "source": [
    "max_depth = [None,2,4,8]\n",
    "min_samples_split = [2,4,6,8]\n",
    "n_estimators = [10,100,400]\n",
    "\n",
    "\n",
    "param_grid = {'max_depth': max_depth, 'min_samples_split': min_samples_split,'n_estimators':n_estimators}\n",
    "clf = GradientBoostingClassifier()\n",
    "\n",
    "\n",
    "clf_cv = GridSearchCV(estimator= clf, param_grid=param_grid, scoring='roc_auc', cv=5, n_jobs=-1)\n",
    "\n",
    "clf_cv.fit(Xlr, ylr)\n",
    "\n",
    "print(clf_cv.best_params_)\n",
    "print(clf_cv.best_score_)\n",
    "print()\n",
    "\n",
    "print(roc_auc_score(ytestlr, clf_cv.predict_proba(Xtestlr)[:, 1]))"
   ]
  },
  {
   "cell_type": "markdown",
   "metadata": {},
   "source": [
    "# Random Forest"
   ]
  },
  {
   "cell_type": "code",
   "execution_count": 9,
   "metadata": {},
   "outputs": [
    {
     "name": "stdout",
     "output_type": "stream",
     "text": [
      "{'max_depth': 2, 'min_samples_split': 6, 'n_estimators': 10}\n",
      "0.632\n",
      "\n",
      "0.6582409972299169\n"
     ]
    }
   ],
   "source": [
    "max_depth = [None,2,4,8]\n",
    "min_samples_split = [2,4,6,8]\n",
    "n_estimators = [10,100,400]\n",
    "\n",
    "\n",
    "param_grid = {'max_depth': max_depth, 'min_samples_split': min_samples_split,'n_estimators':n_estimators}\n",
    "clf = RandomForestClassifier()\n",
    "\n",
    "\n",
    "clf_cv = GridSearchCV(estimator= clf, param_grid=param_grid, scoring='roc_auc', cv=5, n_jobs=-1)\n",
    "\n",
    "clf_cv.fit(Xlr, ylr)\n",
    "\n",
    "print(clf_cv.best_params_)\n",
    "print(clf_cv.best_score_)\n",
    "print()\n",
    "\n",
    "print(roc_auc_score(ytestlr, clf_cv.predict_proba(Xtestlr)[:, 1]))"
   ]
  },
  {
   "cell_type": "markdown",
   "metadata": {},
   "source": [
    "Our primary basis was to calculate the area under the curve, measuring the degree and the probability curve(ROC). Within all of our models, the best ROC_AUC Score we got was Penalty L1 with a score of 0.7008310249307479, being closest to 1. This helps us better understand that our benchmark prediction of our data was fairly high, in addition to understanding that the probabiltiy of heart rate disease was high as well to those with age. \n"
   ]
  },
  {
   "cell_type": "code",
   "execution_count": null,
   "metadata": {},
   "outputs": [],
   "source": []
  }
 ],
 "metadata": {
  "kernelspec": {
   "display_name": "Python 3",
   "language": "python",
   "name": "python3"
  },
  "language_info": {
   "codemirror_mode": {
    "name": "ipython",
    "version": 3
   },
   "file_extension": ".py",
   "mimetype": "text/x-python",
   "name": "python",
   "nbconvert_exporter": "python",
   "pygments_lexer": "ipython3",
   "version": "3.7.6"
  }
 },
 "nbformat": 4,
 "nbformat_minor": 4
}
